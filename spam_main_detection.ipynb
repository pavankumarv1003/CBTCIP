{
  "nbformat": 4,
  "nbformat_minor": 0,
  "metadata": {
    "colab": {
      "provenance": [],
      "authorship_tag": "ABX9TyOOEdnPWxQuLnMOAAlYF9Dn"
    },
    "kernelspec": {
      "name": "python3",
      "display_name": "Python 3"
    },
    "language_info": {
      "name": "python"
    }
  },
  "cells": [
    {
      "cell_type": "code",
      "execution_count": 1,
      "metadata": {
        "colab": {
          "base_uri": "https://localhost:8080/"
        },
        "id": "_SE9iwhcfZ23",
        "outputId": "fd72f004-0480-4fe1-e245-13e31357f065"
      },
      "outputs": [
        {
          "output_type": "stream",
          "name": "stdout",
          "text": [
            "accuracy on evaluation : 0.9623318385650225\n",
            "enter the message:I'm gonna be home soon and i don't want to talk about this stuff anymore tonight, k? I've cried enough today.\n",
            "[0]\n"
          ]
        }
      ],
      "source": [
        "import numpy as np\n",
        "import pandas as pd\n",
        "from sklearn.model_selection import train_test_split\n",
        "from sklearn.feature_extraction.text import TfidfVectorizer\n",
        "from sklearn.linear_model import LogisticRegression\n",
        "from sklearn.metrics import accuracy_score\n",
        "from sklearn.preprocessing import LabelEncoder\n",
        "\n",
        "df=pd.read_csv(\"https://docs.google.com/spreadsheets/d/e/2PACX-1vSjT8X5-Yzwv6hsm97Y4MYSjhS7veqBcJKuSvI8SXCSpgi4gotdy4YsOqaz4nSAJhta1AuNPAqHPKo7/pub?output=csv\")\n",
        "\n",
        "data=df.where((pd.notnull(df)),'')\n",
        "\n",
        "encoder = LabelEncoder()\n",
        "data['v1'] = encoder.fit_transform(data['v1'])\n",
        "\n",
        "X=data['v2']\n",
        "Y=data['v1']\n",
        "\n",
        "xtrain,xtest,ytrain,ytest=train_test_split(X,Y,test_size=0.2,random_state=3)\n",
        "\n",
        "fx=TfidfVectorizer(min_df=1,stop_words='english',lowercase=True)\n",
        "xtrainf=fx.fit_transform(xtrain)\n",
        "xtestf=fx.transform(xtest)\n",
        "\n",
        "model=LogisticRegression()\n",
        "model.fit(xtrainf,ytrain)\n",
        "\n",
        "prediciton=model.predict(xtestf)\n",
        "acc=accuracy_score(prediciton,ytest)\n",
        "print(\"accuracy on evaluation :\",acc)\n",
        "\n",
        "ip=input(\"enter the message:\")\n",
        "\n",
        "ipf=fx.transform([ip])\n",
        "fp=model.predict(ipf)\n",
        "print(fp)\n",
        "\n",
        "if fp[0]=='[0]':\n",
        "    print(\"ham\")\n",
        "elif fp[0]==1:\n",
        "    print(\"spam\")\n",
        "\n"
      ]
    }
  ]
}