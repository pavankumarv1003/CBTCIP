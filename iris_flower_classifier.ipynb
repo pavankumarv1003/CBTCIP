{
  "nbformat": 4,
  "nbformat_minor": 0,
  "metadata": {
    "colab": {
      "provenance": [],
      "gpuType": "T4",
      "authorship_tag": "ABX9TyMxzS6wSAd0dWhKUmxvODan"
    },
    "kernelspec": {
      "name": "python3",
      "display_name": "Python 3"
    },
    "language_info": {
      "name": "python"
    },
    "accelerator": "GPU"
  },
  "cells": [
    {
      "cell_type": "code",
      "source": [
        "import tensorflow as tf\n",
        "import pandas as pd\n",
        "from __future__ import absolute_import, division, print_function, unicode_literals\n",
        "from sklearn.model_selection import train_test_split\n",
        "from IPython.display import clear_output\n",
        "\n",
        "features_col= ['SepalLength','SepalWidth','PetalLength','PetalWidth','Species']\n",
        "lables= ['Setosa','Versicolor','Virginica']\n",
        "\n",
        "url= \"https://docs.google.com/spreadsheets/d/e/2PACX-1vQKk1WzH_R4rP3GKjzk2dpZoaC5DG8w5spb_dO4KVtbp_06tDqBZBR4hsAg-uExExJNq2XMDX3vKrFY/pub?gid=1772486447&single=true&output=csv\"\n",
        "url_data= pd.read_csv(url, names=features_col, header=0)\n",
        "\n",
        "url_lables=url_data.pop('Species')\n",
        "train,test,train_lables,test_lables=train_test_split(url_data,url_lables,test_size=0.2)\n",
        "\n",
        "\n",
        "map={'Iris-setosa':0 ,'Iris-versicolor':1,'Iris-virginica':2}\n",
        "train_lables=train_lables.map(map)\n",
        "test_lables=test_lables.map(map)\n",
        "\n",
        "def input_func(featurs,labels,training=True,batch_size=256):\n",
        "  dataset=tf.data.Dataset.from_tensor_slices((dict(featurs),labels))\n",
        "\n",
        "  if training==True:\n",
        "    dataset=dataset.shuffle(10000).repeat()\n",
        "  return dataset.batch(batch_size)\n",
        "\n",
        "fc=[]\n",
        "for k in train.keys():\n",
        "  fc.append(tf.feature_column.numeric_column(key=k))\n",
        "\n",
        "model=tf.estimator.DNNClassifier(feature_columns=fc, hidden_units=[30,10],n_classes=3)\n",
        "\n",
        "model.train(input_fn=lambda: input_func(train, train_lables, training=True),steps=20000)\n",
        "\n",
        "eval_result = model.evaluate(input_fn=lambda: input_func(test, test_lables, training=False))\n",
        "clear_output()\n",
        "print('\\nTest set accuracy: {accuracy:0.3f}\\n'.format(**eval_result))\n",
        "\n",
        "def input_fn(features, batch_size=256):\n",
        "    # Convert the inputs to a Dataset without labels.\n",
        "    return tf.data.Dataset.from_tensor_slices(dict(features)).batch(batch_size)\n",
        "\n",
        "features = ['SepalLength', 'SepalWidth', 'PetalLength', 'PetalWidth']\n",
        "predict = {}\n",
        "\n",
        "print(\"Please type numeric values as prompted.\")\n",
        "for feature in features:\n",
        "    while True:\n",
        "        val = input(feature + \": \")\n",
        "        try:\n",
        "            predict[feature] = [float(val)]\n",
        "            break\n",
        "        except ValueError:\n",
        "            print(\"Please enter a valid number.\")\n",
        "\n",
        "predictions = model.predict(input_fn=lambda: input_fn(predict))\n",
        "for pred_dict in predictions:\n",
        "    class_id = pred_dict['class_ids'][0]\n",
        "    probability = pred_dict['probabilities'][class_id]\n",
        "    print()\n",
        "    print(lables[class_id])\n",
        "    print(\"prediction percentage:\",probability*100)"
      ],
      "metadata": {
        "id": "LgmLzggSy2gJ",
        "colab": {
          "base_uri": "https://localhost:8080/"
        },
        "outputId": "f678520d-8591-4756-8f84-9590dda10b9b"
      },
      "execution_count": 2,
      "outputs": [
        {
          "name": "stdout",
          "output_type": "stream",
          "text": [
            "\n",
            "Test set accuracy: 0.967\n",
            "\n",
            "Please type numeric values as prompted.\n",
            "SepalLength: 5.1\n",
            "SepalWidth: 3.5\n",
            "PetalLength: 1.4\n",
            "PetalWidth: 0.2\n"
          ]
        },
        {
          "output_type": "stream",
          "name": "stderr",
          "text": [
            "WARNING:tensorflow:From /usr/local/lib/python3.10/dist-packages/tensorflow_estimator/python/estimator/head/base_head.py:786: ClassificationOutput.__init__ (from tensorflow.python.saved_model.model_utils.export_output) is deprecated and will be removed in a future version.\n",
            "Instructions for updating:\n",
            "Use tf.keras instead.\n",
            "WARNING:tensorflow:From /usr/local/lib/python3.10/dist-packages/tensorflow_estimator/python/estimator/head/multi_class_head.py:455: PredictOutput.__init__ (from tensorflow.python.saved_model.model_utils.export_output) is deprecated and will be removed in a future version.\n",
            "Instructions for updating:\n",
            "Use tf.keras instead.\n"
          ]
        },
        {
          "output_type": "stream",
          "name": "stdout",
          "text": [
            "\n",
            "Setosa\n",
            "prediction percentage: 98.46037030220032\n"
          ]
        }
      ]
    }
  ]
}